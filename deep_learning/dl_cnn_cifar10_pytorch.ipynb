{
 "cells": [
  {
   "cell_type": "markdown",
   "metadata": {},
   "source": [
    "# Convolutional neural network\n",
    "\n",
    "## Outline\n",
    "\n",
    "2. Architecures\n",
    "2. Train and test functions\n",
    "3. CNN models\n",
    "4. MNIST\n",
    "5. CIFAR-10\n",
    " \n",
    "Sources:\n",
    "\n",
    "Deep learning\n",
    "- [cs231n.stanford.edu](http://cs231n.stanford.edu/)\n",
    "\n",
    "CNN\n",
    "- [Stanford cs231n](http://cs231n.github.io/convolutional-networks/)\n",
    "\n",
    "Pytorch\n",
    "- [WWW tutorials](https://pytorch.org/tutorials/)\n",
    "- [github tutorials](https://github.com/pytorch/tutorials)\n",
    "- [github examples](https://github.com/pytorch/examples)\n",
    "\n",
    "MNIST and pytorch:\n",
    "- [MNIST nextjournal.com/gkoehler/pytorch-mnist](https://nextjournal.com/gkoehler/pytorch-mnist)\n",
    "- [MNIST github/pytorch/examples](https://github.com/pytorch/examples/tree/master/mnist)\n",
    "- [MNIST kaggle](https://www.kaggle.com/sdelecourt/cnn-with-pytorch-for-mnist)\n",
    "\n",
    "## Architectures\n",
    "\n",
    "Sources:\n",
    "\n",
    "- [cv-tricks.com](https://cv-tricks.com/cnn/understand-resnet-alexnet-vgg-inception)\n",
    "- [zhenye-na.github.io(]https://zhenye-na.github.io/2018/12/01/cnn-deep-leearning-ai-week2.html)\n",
    "\n",
    "\n",
    "### LeNet\n",
    "\n",
    "The first  Convolutional Networks were developed by Yann LeCun in 1990’s.\n",
    "\n",
    "<img src=\"figures/LeNet_Original_Image.jpg\" width=\"700\">\n",
    "\n",
    "### AlexNet\n",
    "\n",
    "(2012, Alex Krizhevsky, Ilya Sutskever and Geoff Hinton)\n",
    "\n",
    "<img src=\"figures/alexnet.png\" width=\"700\">\n",
    "\n",
    "<img src=\"figures/alexnet_param_tab.png\" width=\"500\">\n",
    "\n",
    "- Deeper, bigger,\n",
    "- Featured Convolutional Layers stacked on top of each other (previously it was common to only have a single CONV layer always immediately followed by a POOL layer).\n",
    "- **ReLu(Rectified Linear Unit)** for the non-linear part, instead of a Tanh or Sigmoid.\n",
    "\n",
    "The advantage of the ReLu over sigmoid is that it trains much faster than the latter because the derivative of sigmoid becomes very small in the saturating region and therefore the updates to the weights almost vanish. This is called **vanishing gradient problem**.\n",
    "\n",
    "- **Dropout**: reduces the over-fitting by using a Dropout layer after every FC layer. Dropout layer has a probability,(p), associated with it and is applied at every neuron of the response map separately. It randomly switches off the activation with the probability p.  \n",
    "\n",
    "<img src=\"figures/dropout.jpeg\" width=\"500\">\n",
    "\n",
    "Why does DropOut work?\n",
    "\n",
    "The idea behind the dropout is similar to the model ensembles. Due to the dropout layer, different sets of neurons which are switched off, represent a different architecture and all these different architectures are trained in parallel with weight given to each subset and the summation of weights being one. For n neurons attached to DropOut, the number of subset architectures formed is 2^n. So it amounts to prediction being averaged over these ensembles of models. This provides a structured model regularization which helps in avoiding the over-fitting. Another view of DropOut being helpful is that since neurons are randomly chosen, they tend to avoid developing co-adaptations among themselves thereby enabling them to develop meaningful features, independent of others.\n",
    "\n",
    "- **Data augmentation** is carried out to reduce over-fitting. This Data augmentation includes mirroring and cropping the images to increase the variation in the training data-set.\n",
    "\n",
    "\n",
    "**GoogLeNet**. (Szegedy et al. from Google 2014) was a Convolutional Network . Its main contribution was the development of an\n",
    "\n",
    "- **Inception Module** that dramatically reduced the number of parameters in the network (4M, compared to AlexNet with 60M).\n",
    "\n",
    "<img src=\"figures/inception_block.png\" width=\"500\">\n",
    "\n",
    "- There are also several followup versions to the GoogLeNet, most recently Inception-v4.\n",
    "\n",
    "**VGGNet**. (Karen Simonyan and Andrew Zisserman 2014)\n",
    "\n",
    "<img src=\"figures/vgg.png\" width=\"700\">\n",
    "\n",
    "<img src=\"figures/vgg_param_tab.png\" width=\"500\">\n",
    "\n",
    "- 16 CONV/FC layers and, appealingly, features an extremely homogeneous architecture.\n",
    "\n",
    "- Only performs 3x3 convolutions and 2x2 pooling from the beginning to the end. Replace large kernel-sized filters(11 and 5 in the first and second convolutional layer, respectively) with multiple 3X3 kernel-sized filters one after another.\n",
    "\n",
    "With a given receptive field(the effective area size of input image on which output depends), multiple stacked smaller size kernel is better than the one with a larger size kernel because multiple non-linear layers increases the depth of the network which enables it to learn more complex features, and that too at a lower cost. For example, three 3X3 filters on top of each other with stride 1 ha a receptive size of 7, but the number of parameters involved is 3*(9^2) in comparison to 49^2 parameters of kernels with a size of 7. \n",
    "\n",
    "- Lot more memory and parameters (140M)\n",
    "\n",
    "**ResNet**. (Kaiming He et al. 2015)\n",
    "\n",
    "Resnet block variants ([Source](http://torch.ch/blog/2016/02/04/resnets.html)):\n",
    "\n",
    "<img src=\"figures/resnets_modelvariants.png\" width=\"500\">\n",
    "\n",
    "<img src=\"figures/resnet18.png\" width=\"500\">\n",
    "\n",
    "<img src=\"figures/resnet_param_tab.png\" width=\"500\">\n",
    "\n",
    "- Skip connections\n",
    "- Batch normalization. \n",
    "- State of the art CNN models and are the default choice (as of May 10, 2016). In particular, also see more\n",
    "- Recent developments that tweak the original architecture from Kaiming He et al. Identity Mappings in Deep Residual Networks (published March 2016).\n",
    "\n",
    "[Models in pytorch](https://github.com/pytorch/vision/tree/master/torchvision/models)\n",
    "\n",
    "\n",
    "## Architecures general guidelines\n",
    "\n",
    "- ConvNets stack CONV,POOL,FC layers\n",
    "- Trend towards smaller filters and deeper architectures: stack 3x3, instead of 5x5\n",
    "- Trend towards getting rid of POOL/FC layers (just CONV)\n",
    "- Historically architectures looked like [(CONV-RELU) x N POOL?] x M (FC-RELU) x K, SOFTMAX where N is usually up to ~5, M is large, 0 <= K <= 2.\n",
    "- but recent advances such as ResNet/GoogLeNet have challenged this paradigm"
   ]
  },
  {
   "cell_type": "markdown",
   "metadata": {},
   "source": [
    "## Train and test functions"
   ]
  },
  {
   "cell_type": "code",
   "execution_count": null,
   "metadata": {},
   "outputs": [],
   "source": [
    "import os\n",
    "import numpy as np\n",
    "import argparse\n",
    "import torch\n",
    "import torch.nn as nn\n",
    "import torch.nn.functional as F\n",
    "import torch.optim as optim\n",
    "from torchvision import datasets, transforms\n",
    "import matplotlib.pyplot as plt\n",
    "\n",
    "n_epochs = 5\n",
    "batch_size_train = 64\n",
    "batch_size_test = 1000\n",
    "learning_rate = 0.01\n",
    "momentum = 0.5\n",
    "log_interval = 10\n",
    "random_seed = 1\n",
    "\n",
    "use_cuda = torch.cuda.is_available()\n",
    "device = torch.device(\"cuda\" if use_cuda else \"cpu\")\n",
    "\n",
    "\n",
    "def train(model, train_loader, optimizer, epoch, device, log_interval=None,\n",
    "          batch_max=np.inf, save_model=True):\n",
    "    train_losses, train_counter = list(), list()\n",
    "    # epoch = 1; log_interval=10; train_losses=[]; train_counter=[]\n",
    "\n",
    "    model.train()\n",
    "\n",
    "    # Iterate over minibatch\n",
    "    for batch_idx, (data, target) in enumerate(train_loader):\n",
    "        if batch_idx > batch_max:\n",
    "            break\n",
    "        # batch_idx, (data, target) = next(enumerate(train_loader))\n",
    "        # print(data.shape)\n",
    "        data, target = data.to(device), target.to(device)\n",
    "        optimizer.zero_grad()\n",
    "    \n",
    "        # Forward\n",
    "        output = model(data)\n",
    "        loss = F.nll_loss(output, target)\n",
    "    \n",
    "        # Bakward\n",
    "        loss.backward()\n",
    "\n",
    "        # Update params\n",
    "        optimizer.step()\n",
    "        \n",
    "        # Track losses\n",
    "        train_losses.append(loss.item())\n",
    "        train_counter.append(data.shape[0]) # (batch_idx * data.shape[0]) + ((epoch-1)*len(train_loader.dataset)))\n",
    "\n",
    "        # Save model\n",
    "        if (log_interval is not None) and batch_idx % log_interval == 0:\n",
    "            print('Epoch: {} [{}/{} ({:.0f}%)]\\tLoss: {:.6f}'.format(\n",
    "                epoch, batch_idx * len(data), len(train_loader.dataset),\n",
    "                100. * batch_idx / len(train_loader), loss.item()))\n",
    "\n",
    "    return model, train_losses, train_counter\n",
    "\n",
    "\n",
    "def test(model, test_loader, device, batch_max=np.inf):\n",
    "\n",
    "    model.eval()\n",
    "\n",
    "    test_loss = 0\n",
    "    correct = 0\n",
    "    output, pred, target = list(), list(), list()\n",
    "\n",
    "    # Iterate over mini-batches\n",
    "    with torch.no_grad():\n",
    "        for batch_idx, (data, target_) in enumerate(test_loader):\n",
    "            if batch_idx > batch_max:\n",
    "                break\n",
    "            # batch_idx, (data, target) = next(enumerate(test_loader))\n",
    "            # print(target_.shape)\n",
    "            data, target_ = data.to(device), target_.to(device) # target.shape == 1000\n",
    "            output_ = model(data) # output.shape == (1000, 10)\n",
    "            \n",
    "            # Compute loss\n",
    "            test_loss += F.nll_loss(output_, target_, reduction='sum').item() # sum up batch loss\n",
    "            pred_ = output_.argmax(dim=1) # get the index of the max log-probability\n",
    "            \n",
    "            # An correct classification\n",
    "            correct += pred_.eq(target_.view_as(pred_)).sum().item() # view_as(other): View this tensor as the same size as other\n",
    "\n",
    "            # Track output, class-prediction and true target\n",
    "            output.append(output_)\n",
    "            pred.append(pred_)\n",
    "            target.append(target_)\n",
    "\n",
    "    output = torch.cat(output)\n",
    "    pred = torch.cat(pred)\n",
    "    target = torch.cat(target)\n",
    "    assert pred.eq(target.view_as(pred)).sum().item() == correct\n",
    "\n",
    "    test_loss /= len(target)\n",
    "    print('Average loss: {:.4f}, Accuracy: {}/{} ({:.1f}%)'.format(\n",
    "        test_loss, correct, len(target),\n",
    "        100. * correct / len(target)))\n",
    "    return pred, output, target, test_loss\n",
    "\n",
    "\n",
    "def epochs(model, optimizer, train_loader, test_loader, device, log_interval=None,\n",
    "          batch_max=np.inf, save_model=False):\n",
    "\n",
    "    train_losses, train_counter, test_losses, test_counter = [], [], [], []\n",
    "    for epoch in range(1, n_epochs + 1):\n",
    "        print(\"=== Epoch %i ===\" % epoch)\n",
    "        model, train_losses_, train_counter_ = train(model, train_loader, optimizer, epoch,\n",
    "                                                     device, log_interval=log_interval, batch_max=batch_max)\n",
    "\n",
    "        train_losses += train_losses_\n",
    "        train_counter += train_counter_\n",
    "\n",
    "        # Train accuracy\n",
    "        print(\"Train: \", end = '')\n",
    "        pred_train, output_train, target_train, loss_train = test(model, train_loader, device)\n",
    "        #print(\"Train accuracy = {:.1f}%\".format((target_train == pred_train).sum().item() * 100. / len(target_train)))\n",
    "        #print(\"Test accuracy = {:.1f}%\".format((target == pred).sum().item() * 100. / len(target)))\n",
    "\n",
    "        print(\"Test : \", end = '')\n",
    "        pred, output, target, test_loss = test(model, test_loader, device)\n",
    "        test_counter.append(np.sum(train_counter))\n",
    "        test_losses.append(test_loss)\n",
    "\n",
    "\n",
    "        if save_model:\n",
    "            torch.save(model.state_dict(), 'models/mod-%s.pth' % model.__class__.__name__)\n",
    "            torch.save(optimizer.state_dict(), 'models/mod-%s_opt-%s.pth' % (model.__class__.__name__, optimizer.__class__.__name__))\n",
    "\n",
    "    fig = plt.figure()\n",
    "    plt.plot(np.cumsum(train_counter), train_losses, color='blue')\n",
    "    plt.plot(test_counter, test_losses, \"or\")\n",
    "    plt.legend(['Train Loss', 'Test Loss'], loc='upper right')\n",
    "    plt.xlabel('number of training examples seen')\n",
    "    plt.ylabel('negative log likelihood loss')"
   ]
  },
  {
   "cell_type": "markdown",
   "metadata": {},
   "source": [
    "## CNN models\n",
    "\n",
    "### LeNet-5\n",
    "\n",
    "Here we implement LeNet-5 with relu activation. Sources:\n",
    "[(1)](https://github.com/bollakarthikeya/LeNet-5-PyTorch/blob/master/lenet5_cpu.py),\n",
    "[(2)](https://www.kaggle.com/usingtc/lenet-with-pytorch)."
   ]
  },
  {
   "cell_type": "code",
   "execution_count": null,
   "metadata": {},
   "outputs": [],
   "source": [
    "class LeNet5(nn.Module):\n",
    "    \"\"\"\n",
    "    layers: (nb channels in input layer, \n",
    "             nb channels in 1rst conv,\n",
    "             nb channels in 2nd conv,\n",
    "             nb neurons for 1rst FC: TO BE TUNED,\n",
    "             nb neurons for 2nd FC,\n",
    "             nb neurons for 3rd FC,\n",
    "             nb neurons output FC TO BE TUNED)\n",
    "    \"\"\"\n",
    "    def __init__(self, layers = (1, 6, 16, 1024, 120, 84, 10), debug=False):\n",
    "        super(LeNet5, self).__init__()\n",
    "        self.layers = layers\n",
    "        self.debug = debug\n",
    "        self.conv1 = nn.Conv2d(layers[0], layers[1], 5, padding=2) \n",
    "        self.conv2 = nn.Conv2d(layers[1], layers[2], 5)\n",
    "        self.fc1   = nn.Linear(layers[3], layers[4])\n",
    "        self.fc2   = nn.Linear(layers[4], layers[5])\n",
    "        self.fc3   = nn.Linear(layers[5], layers[6])\n",
    "\n",
    "    def forward(self, x):\n",
    "        x = F.max_pool2d(F.relu(self.conv1(x)), 2) # same shape / 2\n",
    "        x = F.max_pool2d(F.relu(self.conv2(x)), 2) # -4 / 2\n",
    "        if self.debug:\n",
    "            print(\"### DEBUG: Shape of last convnet=\", x.shape[1:], \". FC size=\", np.prod(x.shape[1:]))\n",
    "        x = x.view(-1, self.layers[3])            \n",
    "        x = F.relu(self.fc1(x))\n",
    "        x = F.relu(self.fc2(x))\n",
    "        x = self.fc3(x)\n",
    "        return F.log_softmax(x, dim=1)"
   ]
  },
  {
   "cell_type": "markdown",
   "metadata": {},
   "source": [
    "### VGGNet like: conv-relu blocks"
   ]
  },
  {
   "cell_type": "code",
   "execution_count": null,
   "metadata": {},
   "outputs": [],
   "source": [
    "# Defining the network (LeNet-5)  \n",
    "class MiniVGGNet(torch.nn.Module):\n",
    "     \n",
    "    def __init__(self, layers=(1, 16, 32, 1024, 120, 84, 10), debug=False):   \n",
    "        super(MiniVGGNet, self).__init__()\n",
    "        self.layers = layers\n",
    "        self.debug = debug\n",
    "\n",
    "        # Conv block 1\n",
    "        self.conv11 = nn.Conv2d(in_channels=layers[0], out_channels=layers[1], kernel_size=3,\n",
    "                                stride=1, padding=0, bias=True)\n",
    "        self.conv12 = nn.Conv2d(in_channels=layers[1], out_channels=layers[1], kernel_size=3,\n",
    "                                stride=1, padding=0, bias=True)\n",
    "\n",
    "        # Conv block 2\n",
    "        self.conv21 = nn.Conv2d(in_channels=layers[1], out_channels=layers[2], kernel_size=3,\n",
    "                                stride=1, padding=0, bias=True)\n",
    "        self.conv22 = nn.Conv2d(in_channels=layers[2], out_channels=layers[2], kernel_size=3,\n",
    "                                stride=1, padding=1, bias=True)\n",
    "\n",
    "        # Fully connected layer\n",
    "        self.fc1   = nn.Linear(layers[3], layers[4])\n",
    "        self.fc2   = nn.Linear(layers[4], layers[5])\n",
    "        self.fc3   = nn.Linear(layers[5], layers[6])\n",
    "    \n",
    "    def forward(self, x):\n",
    "        x = F.relu(self.conv11(x))\n",
    "        x = F.relu(self.conv12(x))\n",
    "        x = F.max_pool2d(x, 2)\n",
    "\n",
    "        x = F.relu(self.conv21(x))\n",
    "        x = F.relu(self.conv22(x))\n",
    "        x = F.max_pool2d(x, 2)\n",
    "    \n",
    "        if self.debug:\n",
    "            print(\"### DEBUG: Shape of last convnet=\", x.shape[1:], \". FC size=\", np.prod(x.shape[1:]))\n",
    "        x = x.view(-1, self.layers[3])\n",
    "        x = F.relu(self.fc1(x))\n",
    "        x = F.relu(self.fc2(x))\n",
    "        x = self.fc3(x)\n",
    "        \n",
    "        return F.log_softmax(x, dim=1)"
   ]
  },
  {
   "cell_type": "markdown",
   "metadata": {},
   "source": [
    "### ResNet-like Model:\n",
    "\n",
    "Stack multiple resnet blocks"
   ]
  },
  {
   "cell_type": "code",
   "execution_count": null,
   "metadata": {},
   "outputs": [],
   "source": [
    "# ---------------------------------------------------------------------------- #\n",
    "# An implementation of https://arxiv.org/pdf/1512.03385.pdf                    #\n",
    "# See section 4.2 for the model architecture on CIFAR-10                       #\n",
    "# Some part of the code was referenced from below                              #\n",
    "# https://github.com/pytorch/vision/blob/master/torchvision/models/resnet.py   #\n",
    "# ---------------------------------------------------------------------------- #\n",
    "\n",
    "# 3x3 convolution\n",
    "def conv3x3(in_channels, out_channels, stride=1):\n",
    "    return nn.Conv2d(in_channels, out_channels, kernel_size=3, \n",
    "                     stride=stride, padding=1, bias=False)\n",
    "\n",
    "# Residual block\n",
    "class ResidualBlock(nn.Module):\n",
    "    def __init__(self, in_channels, out_channels, stride=1, downsample=None):\n",
    "        super(ResidualBlock, self).__init__()\n",
    "        self.conv1 = conv3x3(in_channels, out_channels, stride)\n",
    "        self.bn1 = nn.BatchNorm2d(out_channels)\n",
    "        self.relu = nn.ReLU(inplace=True)\n",
    "        self.conv2 = conv3x3(out_channels, out_channels)\n",
    "        self.bn2 = nn.BatchNorm2d(out_channels)\n",
    "        self.downsample = downsample\n",
    "        \n",
    "    def forward(self, x):\n",
    "        residual = x\n",
    "        out = self.conv1(x)\n",
    "        out = self.bn1(out)\n",
    "        out = self.relu(out)\n",
    "        out = self.conv2(out)\n",
    "        out = self.bn2(out)\n",
    "        if self.downsample:\n",
    "            residual = self.downsample(x)\n",
    "        out += residual\n",
    "        out = self.relu(out)\n",
    "        return out\n",
    "\n",
    "# ResNet\n",
    "class ResNet(nn.Module):\n",
    "    def __init__(self, block, layers, num_classes=10):\n",
    "        super(ResNet, self).__init__()\n",
    "        self.in_channels = 16\n",
    "        self.conv = conv3x3(3, 16)\n",
    "        self.bn = nn.BatchNorm2d(16)\n",
    "        self.relu = nn.ReLU(inplace=True)\n",
    "        self.layer1 = self.make_layer(block, 16, layers[0])\n",
    "        self.layer2 = self.make_layer(block, 32, layers[1], 2)\n",
    "        self.layer3 = self.make_layer(block, 64, layers[2], 2)\n",
    "        self.avg_pool = nn.AvgPool2d(8)\n",
    "        self.fc = nn.Linear(64, num_classes)\n",
    "        \n",
    "    def make_layer(self, block, out_channels, blocks, stride=1):\n",
    "        downsample = None\n",
    "        if (stride != 1) or (self.in_channels != out_channels):\n",
    "            downsample = nn.Sequential(\n",
    "                conv3x3(self.in_channels, out_channels, stride=stride),\n",
    "                nn.BatchNorm2d(out_channels))\n",
    "        layers = []\n",
    "        layers.append(block(self.in_channels, out_channels, stride, downsample))\n",
    "        self.in_channels = out_channels\n",
    "        for i in range(1, blocks):\n",
    "            layers.append(block(out_channels, out_channels))\n",
    "        return nn.Sequential(*layers)\n",
    "    \n",
    "    def forward(self, x):\n",
    "        out = self.conv(x)\n",
    "        out = self.bn(out)\n",
    "        out = self.relu(out)\n",
    "        out = self.layer1(out)\n",
    "        out = self.layer2(out)\n",
    "        out = self.layer3(out)\n",
    "        out = self.avg_pool(out)\n",
    "        out = out.view(out.size(0), -1)\n",
    "        out = self.fc(out)\n",
    "        return F.log_softmax(out, dim=1)\n",
    "        #return out"
   ]
  },
  {
   "cell_type": "markdown",
   "metadata": {},
   "source": [
    "## MNIST digit classification"
   ]
  },
  {
   "cell_type": "code",
   "execution_count": null,
   "metadata": {},
   "outputs": [],
   "source": [
    "from pathlib import Path\n",
    "WD = os.path.join(Path.home(), \"data\", \"pystatml\", \"dl_mnist_pytorch\")\n",
    "os.makedirs(WD, exist_ok=True)\n",
    "os.chdir(WD)\n",
    "print(\"Working dir is:\", os.getcwd())\n",
    "os.makedirs(\"data\", exist_ok=True)\n",
    "os.makedirs(\"models\", exist_ok=True)\n",
    "\n",
    "def load_mnist(batch_size_train, batch_size_test):\n",
    "    \n",
    "    train_loader = torch.utils.data.DataLoader(\n",
    "        datasets.MNIST('data', train=True, download=True,\n",
    "                       transform=transforms.Compose([\n",
    "                           transforms.ToTensor(),\n",
    "                           transforms.Normalize((0.1307,), (0.3081,))\n",
    "                       ])),\n",
    "        batch_size=batch_size_train, shuffle=True)\n",
    "    \n",
    "    test_loader = torch.utils.data.DataLoader(\n",
    "        datasets.MNIST('data', train=False, transform=transforms.Compose([\n",
    "            transforms.ToTensor(),\n",
    "            transforms.Normalize((0.1307,), (0.3081,))\n",
    "        ])),\n",
    "        batch_size=batch_size_test, shuffle=True)\n",
    "    return train_loader, test_loader\n",
    "\n",
    "train_loader, test_loader = load_mnist(batch_size_train, batch_size_test)\n",
    "data_shape = train_loader.dataset.data.shape[1:]\n",
    "D_in = np.prod(data_shape)\n",
    "D_out = len(train_loader.dataset.targets.unique())\n",
    "print(train_loader.dataset.data.shape, D_in, D_out)"
   ]
  },
  {
   "cell_type": "markdown",
   "metadata": {},
   "source": [
    "### LeNet"
   ]
  },
  {
   "cell_type": "markdown",
   "metadata": {},
   "source": [
    "Dry run in debug mode to get the shape of the last convnet layer."
   ]
  },
  {
   "cell_type": "code",
   "execution_count": null,
   "metadata": {},
   "outputs": [],
   "source": [
    "model = LeNet5((1, 6, 16, 1, 120, 84, 10), debug=True)\n",
    "batch_idx, (data_example, target_example) = next(enumerate(train_loader))\n",
    "print(model)\n",
    "_ = model(data_example)"
   ]
  },
  {
   "cell_type": "markdown",
   "metadata": {},
   "source": [
    "Set First FC layer to 400"
   ]
  },
  {
   "cell_type": "code",
   "execution_count": null,
   "metadata": {},
   "outputs": [],
   "source": [
    "n_epochs, model = 5, LeNet5((1, 6, 16, 400, 120, 84, 10)) # 98.5% with 61706 parameters\n",
    "optimizer = optim.SGD(model.parameters(), lr=learning_rate, momentum=momentum)\n",
    "\n",
    "# Explore the model\n",
    "for parameter in model.parameters():\n",
    "    print(parameter.shape)\n",
    "\n",
    "print(\"Total number of parameters =\", np.sum([np.prod(parameter.shape) for parameter in model.parameters()]))\n",
    "\n",
    "epochs(model, optimizer, train_loader, test_loader, device, log_interval=None,\n",
    "          batch_max=np.inf, save_model=True)"
   ]
  },
  {
   "cell_type": "markdown",
   "metadata": {},
   "source": [
    "### MiniVGGNet"
   ]
  },
  {
   "cell_type": "code",
   "execution_count": null,
   "metadata": {},
   "outputs": [],
   "source": [
    "model = MiniVGGNet(layers=(1, 16, 32, 1, 120, 84, 10), debug=True)\n",
    "\n",
    "print(model)\n",
    "_ = model(data_example)"
   ]
  },
  {
   "cell_type": "markdown",
   "metadata": {},
   "source": [
    "Set First FC layer to 800"
   ]
  },
  {
   "cell_type": "code",
   "execution_count": null,
   "metadata": {},
   "outputs": [],
   "source": [
    "n_epochs, model = 5, MiniVGGNet((1, 16, 32, 800, 120, 84, 10)) # 98.4% with  123502 parameters\n",
    "optimizer = optim.SGD(model.parameters(), lr=learning_rate, momentum=momentum)\n",
    "\n",
    "# Explore the model\n",
    "for parameter in model.parameters():\n",
    "    print(parameter.shape)\n",
    "print(\"Total number of parameters =\", np.sum([np.prod(parameter.shape) for parameter in model.parameters()]))\n",
    "\n",
    "epochs(model, optimizer, train_loader, test_loader, device)"
   ]
  },
  {
   "cell_type": "markdown",
   "metadata": {},
   "source": [
    "### Reduce the size of training dataset\n",
    "\n",
    "Reduce the size of the training dataset by considering only a subset of batches.\n",
    "Reduce the size of the batch size to `16`, an consider `8` mini-batches for training."
   ]
  },
  {
   "cell_type": "code",
   "execution_count": null,
   "metadata": {},
   "outputs": [],
   "source": [
    "train_loader, test_loader = load_mnist(16, batch_size_test)"
   ]
  },
  {
   "cell_type": "code",
   "execution_count": null,
   "metadata": {},
   "outputs": [],
   "source": [
    "n_epochs, model = 50, LeNet5((1, 6, 16, 400, 120, 84, 10)) # 98.5% with 61706 parameters\n",
    "optimizer = optim.SGD(model.parameters(), lr=learning_rate, momentum=momentum)\n",
    "\n",
    "epochs(model, optimizer, train_loader, test_loader, device, batch_max=8)"
   ]
  },
  {
   "cell_type": "code",
   "execution_count": null,
   "metadata": {},
   "outputs": [],
   "source": [
    "n_epochs, model = 50, MiniVGGNet((1, 16, 32, 800, 120, 84, 10)) # 92.2%\n",
    "optimizer = optim.SGD(model.parameters(), lr=learning_rate, momentum=momentum)\n",
    "\n",
    "epochs(model, optimizer, train_loader, test_loader, device, batch_max=8)"
   ]
  },
  {
   "cell_type": "markdown",
   "metadata": {},
   "source": [
    "## CIFAR-10 dataset\n",
    "\n",
    "[Source Yunjey Choi](https://github.com/yunjey/pytorch-tutorial)"
   ]
  },
  {
   "cell_type": "code",
   "execution_count": null,
   "metadata": {},
   "outputs": [],
   "source": [
    "from pathlib import Path\n",
    "WD = os.path.join(Path.home(), \"data\", \"pystatml\", \"dl_cnn_cifar10_pytorch\")\n",
    "os.makedirs(WD, exist_ok=True)\n",
    "os.chdir(WD)\n",
    "print(\"Working dir is:\", os.getcwd())\n",
    "os.makedirs(\"data\", exist_ok=True)\n",
    "os.makedirs(\"models\", exist_ok=True)\n",
    "\n",
    "import numpy as np\n",
    "import torch\n",
    "import torch.nn as nn\n",
    "import torchvision\n",
    "import torchvision.transforms as transforms\n",
    "\n",
    "\n",
    "# Device configuration\n",
    "device = torch.device('cuda' if torch.cuda.is_available() else 'cpu')\n",
    "\n",
    "# Hyper-parameters\n",
    "num_epochs = 5\n",
    "learning_rate = 0.001\n",
    "\n",
    "# Image preprocessing modules\n",
    "transform = transforms.Compose([\n",
    "    transforms.Pad(4),\n",
    "    transforms.RandomHorizontalFlip(),\n",
    "    transforms.RandomCrop(32),\n",
    "    transforms.ToTensor()])\n",
    "\n",
    "# CIFAR-10 dataset\n",
    "train_dataset = torchvision.datasets.CIFAR10(root='data/',\n",
    "                                             train=True, \n",
    "                                             transform=transform,\n",
    "                                             download=True)\n",
    "\n",
    "test_dataset = torchvision.datasets.CIFAR10(root='data/',\n",
    "                                            train=False, \n",
    "                                            transform=transforms.ToTensor())\n",
    "\n",
    "# Data loader\n",
    "train_loader = torch.utils.data.DataLoader(dataset=train_dataset,\n",
    "                                           batch_size=100, \n",
    "                                           shuffle=True)\n",
    "\n",
    "test_loader = torch.utils.data.DataLoader(dataset=test_dataset,\n",
    "                                          batch_size=100, \n",
    "                                          shuffle=False)\n",
    "\n",
    "# Info about the dataset\n",
    "data_shape = train_loader.dataset.data.shape[1:]\n",
    "D_in = np.prod(data_shape)\n",
    "D_out = len(set(train_loader.dataset.targets))\n",
    "print(data_shape, D_in, D_out)"
   ]
  },
  {
   "cell_type": "markdown",
   "metadata": {},
   "source": [
    "### LeNet"
   ]
  },
  {
   "cell_type": "code",
   "execution_count": null,
   "metadata": {},
   "outputs": [],
   "source": [
    "model = LeNet5((3, 6, 16, 1, 120, 84, 10), debug=True)\n",
    "batch_idx, (data_example, target_example) = next(enumerate(train_loader))\n",
    "print(model)\n",
    "_ = model(data_example)"
   ]
  },
  {
   "cell_type": "markdown",
   "metadata": {},
   "source": [
    "Set 576 neurons to the first FC layer"
   ]
  },
  {
   "cell_type": "markdown",
   "metadata": {},
   "source": [
    "SGD with momentum"
   ]
  },
  {
   "cell_type": "code",
   "execution_count": null,
   "metadata": {},
   "outputs": [],
   "source": [
    "n_epochs, model = 5, LeNet5((3, 6, 16, 576, 120, 84, 10))\n",
    "optimizer = optim.SGD(model.parameters(), lr=0.001, momentum=0.9)\n",
    "\n",
    "epochs(model, optimizer, train_loader, test_loader, device)"
   ]
  },
  {
   "cell_type": "markdown",
   "metadata": {},
   "source": [
    "Flat convergence at the beginning: increase learning rate to large value of 0.01"
   ]
  },
  {
   "cell_type": "code",
   "execution_count": null,
   "metadata": {},
   "outputs": [],
   "source": [
    "n_epochs, model = 5, LeNet5((3, 6, 16, 576, 120, 84, 10))\n",
    "optimizer = optim.SGD(model.parameters(), lr=0.01, momentum=0.9)\n",
    "\n",
    "epochs(model, optimizer, train_loader, test_loader, device)"
   ]
  },
  {
   "cell_type": "markdown",
   "metadata": {},
   "source": [
    "Adaptative learning rate: Adam"
   ]
  },
  {
   "cell_type": "code",
   "execution_count": null,
   "metadata": {},
   "outputs": [],
   "source": [
    "n_epochs, model = 5, LeNet5((3, 6, 16, 576, 120, 84, 10))\n",
    "optimizer = torch.optim.Adam(model.parameters(), lr=0.001)\n",
    "\n",
    "epochs(model, optimizer, train_loader, test_loader, device)"
   ]
  },
  {
   "cell_type": "markdown",
   "metadata": {},
   "source": [
    "### MiniVGGNet"
   ]
  },
  {
   "cell_type": "code",
   "execution_count": null,
   "metadata": {},
   "outputs": [],
   "source": [
    "model = MiniVGGNet(layers=(3, 16, 32, 1, 120, 84, 10), debug=True)\n",
    "print(model)\n",
    "_ = model(data_example)"
   ]
  },
  {
   "cell_type": "markdown",
   "metadata": {},
   "source": [
    "Set 1152 neurons to the first FC layer"
   ]
  },
  {
   "cell_type": "markdown",
   "metadata": {},
   "source": [
    "SGD with momentum and large learning rate of 0.01"
   ]
  },
  {
   "cell_type": "code",
   "execution_count": null,
   "metadata": {},
   "outputs": [],
   "source": [
    "n_epochs, model = 5, MiniVGGNet((3, 16, 32, 1152, 120, 84, 10))\n",
    "optimizer = optim.SGD(model.parameters(), lr=0.01, momentum=0.9)\n",
    "\n",
    "epochs(model, optimizer, train_loader, test_loader, device)"
   ]
  },
  {
   "cell_type": "markdown",
   "metadata": {},
   "source": [
    "Adam"
   ]
  },
  {
   "cell_type": "code",
   "execution_count": null,
   "metadata": {},
   "outputs": [],
   "source": [
    "n_epochs, model = 5, MiniVGGNet((3, 16, 32, 1152, 120, 84, 10))\n",
    "optimizer = torch.optim.Adam(model.parameters(), lr=0.001)\n",
    "\n",
    "epochs(model, optimizer, train_loader, test_loader, device)"
   ]
  },
  {
   "cell_type": "markdown",
   "metadata": {},
   "source": [
    "### ResNet"
   ]
  },
  {
   "cell_type": "code",
   "execution_count": null,
   "metadata": {},
   "outputs": [],
   "source": [
    "n_epochs, model = 5,  ResNet(ResidualBlock, [2, 2, 2]).to(device) # 195738 parameters\n",
    "optimizer = torch.optim.Adam(model.parameters(), lr=0.001)\n",
    "\n",
    "# Explore the model\n",
    "for parameter in model.parameters():\n",
    "    print(parameter.shape)\n",
    "print(\"Total number of parameters =\", np.sum([np.prod(parameter.shape) for parameter in model.parameters()]))\n",
    "\n",
    "epochs(model, optimizer, train_loader, test_loader, device)"
   ]
  },
  {
   "cell_type": "code",
   "execution_count": null,
   "metadata": {},
   "outputs": [],
   "source": []
  }
 ],
 "metadata": {
  "kernelspec": {
   "display_name": "py36",
   "language": "python",
   "name": "py36"
  },
  "language_info": {
   "codemirror_mode": {
    "name": "ipython",
    "version": 3
   },
   "file_extension": ".py",
   "mimetype": "text/x-python",
   "name": "python",
   "nbconvert_exporter": "python",
   "pygments_lexer": "ipython3",
   "version": "3.6.9"
  }
 },
 "nbformat": 4,
 "nbformat_minor": 2
}
