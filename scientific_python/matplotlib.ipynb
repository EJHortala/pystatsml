{
 "cells": [
  {
   "cell_type": "markdown",
   "metadata": {},
   "source": [
    "# Matplotlib: data visualization\n",
    "\n",
    "**Sources**\n",
    "- Nicolas P. Rougier: http://www.labri.fr/perso/nrougier/teaching/matplotlib\n",
    "- https://www.kaggle.com/benhamner/d/uciml/iris/python-data-visualizations\n",
    "\n",
    "\n",
    "## Basic plots"
   ]
  },
  {
   "cell_type": "code",
   "execution_count": null,
   "metadata": {},
   "outputs": [],
   "source": [
    "import numpy as np\n",
    "import matplotlib.pyplot as plt\n",
    "\n",
    "# inline plot (for jupyter)\n",
    "%matplotlib inline\n",
    "\n",
    "x = np.linspace(0, 10, 50)\n",
    "sinus = np.sin(x)\n",
    "\n",
    "plt.plot(x, sinus)\n",
    "plt.show()"
   ]
  },
  {
   "cell_type": "code",
   "execution_count": null,
   "metadata": {},
   "outputs": [],
   "source": [
    "plt.plot(x, sinus, \"o\")\n",
    "plt.show()\n",
    "# use plt.plot to get color / marker abbreviations"
   ]
  },
  {
   "cell_type": "code",
   "execution_count": null,
   "metadata": {},
   "outputs": [],
   "source": [
    "# Rapid multiplot\n",
    "\n",
    "cosinus = np.cos(x)\n",
    "plt.plot(x, sinus, \"-b\", x, sinus, \"ob\", x, cosinus, \"-r\", x, cosinus, \"or\")\n",
    "plt.xlabel('this is x!')\n",
    "plt.ylabel('this is y!')\n",
    "plt.title('My First Plot')\n",
    "plt.show()"
   ]
  },
  {
   "cell_type": "code",
   "execution_count": null,
   "metadata": {},
   "outputs": [],
   "source": [
    "# Step by step\n",
    "plt.plot(x, sinus, label='sinus', color='blue', linestyle='--', linewidth=2)\n",
    "plt.plot(x, cosinus, label='cosinus', color='red', linestyle='-', linewidth=2)\n",
    "plt.legend()\n",
    "plt.show()"
   ]
  },
  {
   "cell_type": "markdown",
   "metadata": {},
   "source": [
    "## Scatter (2D) plots\n",
    "\n",
    "Load dataset"
   ]
  },
  {
   "cell_type": "code",
   "execution_count": null,
   "metadata": {},
   "outputs": [],
   "source": [
    "import pandas as pd\n",
    "try:\n",
    "    salary = pd.read_csv(\"../datasets/salary_table.csv\")\n",
    "except:\n",
    "    url = 'https://raw.github.com/neurospin/pystatsml/master/datasets/salary_table.csv'\n",
    "    salary = pd.read_csv(url)\n",
    "\n",
    "df = salary"
   ]
  },
  {
   "cell_type": "markdown",
   "metadata": {},
   "source": [
    "### Simple scatter with colors"
   ]
  },
  {
   "cell_type": "code",
   "execution_count": null,
   "metadata": {},
   "outputs": [],
   "source": [
    "colors = colors_edu = {'Bachelor':'r', 'Master':'g', 'Ph.D':'blue'}\n",
    "plt.scatter(df['experience'], df['salary'], c=df['education'].apply(lambda x: colors[x]), s=100)"
   ]
  },
  {
   "cell_type": "markdown",
   "metadata": {},
   "source": [
    "### Scatter plot with colors and symbols"
   ]
  },
  {
   "cell_type": "code",
   "execution_count": null,
   "metadata": {},
   "outputs": [],
   "source": [
    "## Figure size\n",
    "plt.figure(figsize=(6,5))\n",
    "\n",
    "## Define colors / sumbols manually\n",
    "symbols_manag = dict(Y='*', N='.')\n",
    "colors_edu = {'Bachelor':'r', 'Master':'g', 'Ph.D':'blue'}\n",
    "\n",
    "## group by education x management => 6 groups\n",
    "for values, d in salary.groupby(['education','management']):\n",
    "    edu, manager = values\n",
    "    plt.scatter(d['experience'], d['salary'], marker=symbols_manag[manager], color=colors_edu[edu],\n",
    "               s=150, label=manager+\"/\"+edu)\n",
    "\n",
    "## Set labels\n",
    "plt.xlabel('Experience')\n",
    "plt.ylabel('Salary')\n",
    "plt.legend(loc=4)  # lower right\n",
    "plt.show()"
   ]
  },
  {
   "cell_type": "markdown",
   "metadata": {},
   "source": [
    "## Saving Figures"
   ]
  },
  {
   "cell_type": "code",
   "execution_count": null,
   "metadata": {},
   "outputs": [],
   "source": [
    "### bitmap format\n",
    "plt.plot(x, sinus)\n",
    "plt.savefig(\"sinus.png\")\n",
    "plt.close()\n",
    "\n",
    "# Prefer vectorial format (SVG: Scalable Vector Graphics) can be edited with \n",
    "# Inkscape, Adobe Illustrator, Blender, etc.\n",
    "plt.plot(x, sinus)\n",
    "plt.savefig(\"sinus.svg\")\n",
    "plt.close()\n",
    "\n",
    "# Or pdf\n",
    "plt.plot(x, sinus)\n",
    "plt.savefig(\"sinus.pdf\")\n",
    "plt.close()"
   ]
  },
  {
   "cell_type": "markdown",
   "metadata": {},
   "source": [
    "## Seaborn\n",
    "\n",
    "**Sources**:\n",
    "- http://stanford.edu/~mwaskom/software/seaborn\n",
    "- https://elitedatascience.com/python-seaborn-tutorial\n",
    "\n",
    "If needed, install using: `pip install  -U --user seaborn`"
   ]
  },
  {
   "cell_type": "markdown",
   "metadata": {},
   "source": [
    "### Boxplot\n",
    "\n",
    "Box plots are non-parametric: they display variation in samples of a statistical population without making any assumptions of the underlying statistical distribution.\n",
    "\n",
    "![title](images/boxplot.png)"
   ]
  },
  {
   "cell_type": "code",
   "execution_count": null,
   "metadata": {},
   "outputs": [],
   "source": [
    "import seaborn as sns\n",
    "\n",
    "sns.boxplot(x=\"education\", y=\"salary\", hue=\"management\", data=salary)"
   ]
  },
  {
   "cell_type": "code",
   "execution_count": null,
   "metadata": {},
   "outputs": [],
   "source": [
    "sns.boxplot(x=\"management\", y=\"salary\", hue=\"education\", data=salary)\n",
    "sns.stripplot(x=\"management\", y=\"salary\", hue=\"education\", data=salary, jitter=True, dodge=True, linewidth=1)# Jitter and split options separate datapoints according to group\""
   ]
  },
  {
   "cell_type": "markdown",
   "metadata": {},
   "source": [
    "### Density plot with one figure containing multiple axis\n",
    "\n",
    "One figure can contain several axis, whose contain the graphic elements"
   ]
  },
  {
   "cell_type": "code",
   "execution_count": null,
   "metadata": {},
   "outputs": [],
   "source": [
    "# Set up the matplotlib figure: 3 x 1 axis\n",
    "\n",
    "f, axes = plt.subplots(3, 1, figsize=(9, 9), sharex=True)\n",
    "\n",
    "i = 0\n",
    "for edu, d in salary.groupby(['education']):\n",
    "    sns.distplot(d.salary[d.management == \"Y\"], color=\"b\", bins=10, label=\"Manager\", ax=axes[i])\n",
    "    sns.distplot(d.salary[d.management == \"N\"], color=\"r\", bins=10, label=\"Employee\", ax=axes[i])\n",
    "    axes[i].set_title(edu)\n",
    "    axes[i].set_ylabel('Density')\n",
    "    i += 1\n",
    "ax = plt.legend()"
   ]
  },
  {
   "cell_type": "markdown",
   "metadata": {},
   "source": [
    "### Violin plot (distribution)"
   ]
  },
  {
   "cell_type": "code",
   "execution_count": null,
   "metadata": {},
   "outputs": [],
   "source": [
    "ax = sns.violinplot(x=\"salary\", data=salary)"
   ]
  },
  {
   "cell_type": "markdown",
   "metadata": {},
   "source": [
    "Tune bandwidth"
   ]
  },
  {
   "cell_type": "code",
   "execution_count": null,
   "metadata": {},
   "outputs": [],
   "source": [
    "ax = sns.violinplot(x=\"salary\", data=salary, bw=.15)"
   ]
  },
  {
   "cell_type": "code",
   "execution_count": null,
   "metadata": {},
   "outputs": [],
   "source": [
    "ax = sns.violinplot(x=\"management\", y=\"salary\", hue=\"education\", data=salary)"
   ]
  },
  {
   "cell_type": "markdown",
   "metadata": {},
   "source": [
    "Tips dataset One waiter recorded information about each tip he received over a period of a few months working in one restaurant. He collected several variables: "
   ]
  },
  {
   "cell_type": "code",
   "execution_count": null,
   "metadata": {},
   "outputs": [],
   "source": [
    "import seaborn as sns\n",
    "#sns.set(style=\"whitegrid\")\n",
    "tips = sns.load_dataset(\"tips\")\n",
    "print(tips.head())\n",
    "\n",
    "ax = sns.violinplot(x=tips[\"total_bill\"])"
   ]
  },
  {
   "cell_type": "markdown",
   "metadata": {},
   "source": [
    "Group by day"
   ]
  },
  {
   "cell_type": "code",
   "execution_count": null,
   "metadata": {},
   "outputs": [],
   "source": [
    "ax = sns.violinplot(x=\"day\", y=\"total_bill\", data=tips, palette=\"muted\")"
   ]
  },
  {
   "cell_type": "markdown",
   "metadata": {},
   "source": [
    "Group by day and color by time (lunch vs dinner)"
   ]
  },
  {
   "cell_type": "code",
   "execution_count": null,
   "metadata": {},
   "outputs": [],
   "source": [
    "ax = sns.violinplot(x=\"day\", y=\"total_bill\", hue=\"time\", data=tips, palette=\"muted\", split=True)"
   ]
  },
  {
   "cell_type": "markdown",
   "metadata": {},
   "source": [
    "### Pairwise scatter plots"
   ]
  },
  {
   "cell_type": "code",
   "execution_count": null,
   "metadata": {},
   "outputs": [],
   "source": [
    "g = sns.PairGrid(salary, hue=\"management\")\n",
    "g.map_diag(plt.hist)\n",
    "g.map_offdiag(plt.scatter)\n",
    "ax = g.add_legend()"
   ]
  },
  {
   "cell_type": "markdown",
   "metadata": {},
   "source": [
    "## Time series"
   ]
  },
  {
   "cell_type": "code",
   "execution_count": null,
   "metadata": {},
   "outputs": [],
   "source": [
    "import seaborn as sns\n",
    "sns.set(style=\"darkgrid\")\n",
    "\n",
    "# Load an example dataset with long-form data\n",
    "fmri = sns.load_dataset(\"fmri\")\n",
    "\n",
    "# Plot the responses for different events and regions\n",
    "\n",
    "\n",
    "ax = sns.pointplot(x=\"timepoint\", y=\"signal\",\n",
    "             hue=\"region\", style=\"event\",\n",
    "             data=fmri)\n",
    "# version 0.9\n",
    "# sns.lineplot(x=\"timepoint\", y=\"signal\",\n",
    "#              hue=\"region\", style=\"event\",\n",
    "#              data=fmri)"
   ]
  }
 ],
 "metadata": {
  "anaconda-cloud": {},
  "kernelspec": {
   "display_name": "Python 3",
   "language": "python",
   "name": "python3"
  },
  "language_info": {
   "codemirror_mode": {
    "name": "ipython",
    "version": 3
   },
   "file_extension": ".py",
   "mimetype": "text/x-python",
   "name": "python",
   "nbconvert_exporter": "python",
   "pygments_lexer": "ipython3",
   "version": "3.7.2"
  }
 },
 "nbformat": 4,
 "nbformat_minor": 2
}
